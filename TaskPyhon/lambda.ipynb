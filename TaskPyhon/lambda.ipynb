{
 "cells": [
  {
   "cell_type": "code",
   "execution_count": 4,
   "metadata": {},
   "outputs": [
    {
     "name": "stdout",
     "output_type": "stream",
     "text": [
      "3\n",
      "3\n"
     ]
    }
   ],
   "source": [
    "def aa(i,j):\n",
    "    return i+j\n",
    "print(aa(1,2))\n",
    "a=lambda i,j: i+j\n",
    "print(a(1,2))"
   ]
  },
  {
   "cell_type": "code",
   "execution_count": null,
   "metadata": {},
   "outputs": [],
   "source": [
    "a=(lambda i,j:i+j)(1,2)\n",
    "print(a)"
   ]
  },
  {
   "cell_type": "code",
   "execution_count": null,
   "metadata": {},
   "outputs": [],
   "source": [
    "a = [(lambda i,j:i+j), (lambda i,j:i-j), (lambda i: i//2)]\n",
    "print(a[0](1,4))\n",
    "print(a[1](1,4))\n",
    "print(a[2](10))"
   ]
  },
  {
   "cell_type": "code",
   "execution_count": null,
   "metadata": {},
   "outputs": [],
   "source": [
    "b={'+':(lambda i,j:i+j), '-':(lambda i,j:i-j)}\n",
    "print(b['+'](1098, 325))"
   ]
  },
  {
   "cell_type": "code",
   "execution_count": null,
   "metadata": {},
   "outputs": [],
   "source": [
    "a = [[1,2], [3, 4]]\n",
    "a.sort()\n",
    "print(a)\n",
    "def num_item(i):return i[1]\n",
    "a.sort(key=lambda i:i[1])\n",
    "print(a)\n"
   ]
  },
  {
   "cell_type": "code",
   "execution_count": null,
   "metadata": {},
   "outputs": [],
   "source": [
    "a=int(input(\"Введите число\"))\n",
    "b=int(input(\"Введите число\"))\n",
    "for i in range(1):\n",
    "    c = {'+':(lambda a,b:a+b),'-':(lambda a,b:a-b),'*':(lambda a,b:a*b),'//':(lambda a,b:a//b)}\n",
    "    h=c['+'](a,b)\n",
    "    m=c['-'](a,b)\n",
    "    t=c['*'](a,b)\n",
    "    j=c['//'](a,b)\n",
    "    print(h)\n",
    "    print(m)\n",
    "    print(t)\n",
    "    print(j)\n",
    "    \n"
   ]
  },
  {
   "cell_type": "code",
   "execution_count": 7,
   "metadata": {},
   "outputs": [
    {
     "name": "stdout",
     "output_type": "stream",
     "text": [
      "['утка', 'как', 'лол', 'айфон', 'что', 'привет', 'почему', 'китайцы', 'гусь', 'гидроэлектростанция']\n"
     ]
    }
   ],
   "source": [
    "stop=\"exit\"\n",
    "spisok=[]\n",
    "while True:\n",
    "        vvod=str(input(\"Вводите словаБчтобы завершмть введите 'exit'\"))\n",
    "        if vvod.lower()==stop:\n",
    "            break\n",
    "        spisok.append(vvod)\n",
    "SortSpisok=sorted(spisok,key=lambda b: (b[-1], len(b)))\n",
    "print(SortSpisok)"
   ]
  }
 ],
 "metadata": {
  "kernelspec": {
   "display_name": "Python 3.8.0 64-bit",
   "language": "python",
   "name": "python3"
  },
  "language_info": {
   "codemirror_mode": {
    "name": "ipython",
    "version": 3
   },
   "file_extension": ".py",
   "mimetype": "text/x-python",
   "name": "python",
   "nbconvert_exporter": "python",
   "pygments_lexer": "ipython3",
   "version": "3.8.0"
  },
  "orig_nbformat": 4,
  "vscode": {
   "interpreter": {
    "hash": "5075924f1dcda316511d83943c949f668248ca224ee38fd193d18706f67cde21"
   }
  }
 },
 "nbformat": 4,
 "nbformat_minor": 2
}
