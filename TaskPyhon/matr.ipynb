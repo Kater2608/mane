{
 "cells": [
  {
   "cell_type": "code",
   "execution_count": 10,
   "metadata": {},
   "outputs": [
    {
     "name": "stdout",
     "output_type": "stream",
     "text": [
      "24 93 7\n",
      "6 68 -\n",
      "- - -\n",
      "- - 99\n",
      "[124, 60, -131, -12]\n"
     ]
    }
   ],
   "source": [
    "# from random import randint\n",
    "# s=[]\n",
    "# l=[]\n",
    "# A=4\n",
    "# B=3\n",
    "# a=[]\n",
    "# for i in range(A):\n",
    "#     b=[]\n",
    "#     for i in range(B):\n",
    "#         b.append(randint(-100,100))\n",
    "#     a.append(b)\n",
    "# for symbol in a:\n",
    "#     print(*(i if i >=0 else '-' for i in symbol))\n",
    "# if symbol=='-':\n",
    "#         symbol=0\n",
    "# for i in range(len(a)):\n",
    "#     stroka=0\n",
    "#     for j in range(len(a[0])):\n",
    "#         stroka+=a[i][j]\n",
    "#     s.append(stroka)\n",
    "# for i in range(len(a[0])):\n",
    "#     suma=0\n",
    "#     for j in range(len(a)):\n",
    "#         suma=a[j][i]\n",
    "#     l.append(suma)\n",
    "# print(s)\n",
    "\n"
   ]
  }
 ],
 "metadata": {
  "kernelspec": {
   "display_name": "Python 3.8.0 64-bit",
   "language": "python",
   "name": "python3"
  },
  "language_info": {
   "codemirror_mode": {
    "name": "ipython",
    "version": 3
   },
   "file_extension": ".py",
   "mimetype": "text/x-python",
   "name": "python",
   "nbconvert_exporter": "python",
   "pygments_lexer": "ipython3",
   "version": "3.8.0"
  },
  "orig_nbformat": 4,
  "vscode": {
   "interpreter": {
    "hash": "5075924f1dcda316511d83943c949f668248ca224ee38fd193d18706f67cde21"
   }
  }
 },
 "nbformat": 4,
 "nbformat_minor": 2
}
